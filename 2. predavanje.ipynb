{
 "cells": [
  {
   "cell_type": "markdown",
   "metadata": {},
   "source": [
    "# Pogreške u numeričkom računanju"
   ]
  },
  {
   "cell_type": "markdown",
   "metadata": {},
   "source": [
    "Podsjetimo se da je Taylorov red za funkciju $\\sin x$\n",
    "$$\\sin x=\\sum_{n=0}^\\infty (-1)^n\\frac{x^{2n+1}}{(2n+1)!}$$"
   ]
  },
  {
   "cell_type": "code",
   "execution_count": 2,
   "metadata": {},
   "outputs": [
    {
     "name": "stdout",
     "output_type": "stream",
     "text": [
      "n= 23\n",
      "sin(pi/2)= 1.0000000000000002\n",
      "n= 75\n",
      "sin(11pi/2)= -1.0000000002128728\n",
      "n= 121\n",
      "sin(21pi/2)= 0.9998667640418495\n",
      "n= 157\n",
      "sin(31pi/2)= -5822.01852702401\n"
     ]
    }
   ],
   "source": [
    "import math\n",
    "import numpy as np\n",
    "\n",
    "def func_sin(x):\n",
    "    sin_approx = 0\n",
    "    t=x\n",
    "    n=1\n",
    "    while sin_approx+t!= sin_approx:\n",
    "        sin_approx=sin_approx+t\n",
    "        t=-(x**2)/((n+1)*(n+2))*t\n",
    "        n=n+2\n",
    "    print(\"n=\", n)\n",
    "    return sin_approx\n",
    "\n",
    "print(\"sin(pi/2)=\",func_sin(math.pi/2))\n",
    "\n",
    "print(\"sin(11pi/2)=\",func_sin(11*math.pi/2))\n",
    "\n",
    "print(\"sin(21pi/2)=\", func_sin(21*math.pi/2))\n",
    "\n",
    "\n",
    "print(\"sin(31pi/2)=\",func_sin(31*math.pi/2))"
   ]
  },
  {
   "cell_type": "code",
   "execution_count": 9,
   "metadata": {},
   "outputs": [
    {
     "data": {
      "text/html": [
       "\n",
       "        <iframe\n",
       "            width=\"400\"\n",
       "            height=\"300\"\n",
       "            src=\"https://www.youtube.com/embed/xJvJSjAJuyc \"\n",
       "            frameborder=\"0\"\n",
       "            allowfullscreen\n",
       "        ></iframe>\n",
       "        "
      ],
      "text/plain": [
       "<IPython.lib.display.YouTubeVideo at 0x253555e6710>"
      ]
     },
     "metadata": {},
     "output_type": "display_data"
    }
   ],
   "source": [
    "from IPython.lib.display import YouTubeVideo\n",
    "vid = YouTubeVideo(\"xJvJSjAJuyc \")\n",
    "display(vid)"
   ]
  },
  {
   "cell_type": "markdown",
   "metadata": {},
   "source": [
    "# Rješavanje kvadratne jednadžbe"
   ]
  },
  {
   "cell_type": "code",
   "execution_count": 4,
   "metadata": {},
   "outputs": [
    {
     "name": "stdout",
     "output_type": "stream",
     "text": [
      "Roots= [1.e+08 1.e-08]\n",
      "x1= 100000000.0\n",
      "x2= 7.450580596923828e-09\n"
     ]
    }
   ],
   "source": [
    "a=1.0\n",
    "c=1.0\n",
    "b=-(1.e+8+1.e-8)\n",
    "coeff= [a, b, c]\n",
    "print(\"Roots=\",np.roots(coeff))\n",
    "x1=(-b+np.sqrt(b**2-3*a*c))/(2*a)\n",
    "print(\"x1=\",x1)\n",
    "x2=(-b-np.sqrt(b**2-3*a*c))/(2*a)\n",
    "print(\"x2=\",x2)"
   ]
  },
  {
   "cell_type": "markdown",
   "metadata": {},
   "source": [
    "# Računanje $\\frac{\\ln(1+x)}{x}$\n",
    "\n",
    "Znamo $\\frac{\\ln(1+x)}{x}\\approx 1$ za $x\\approx 0$"
   ]
  },
  {
   "cell_type": "code",
   "execution_count": 5,
   "metadata": {},
   "outputs": [
    {
     "data": {
      "text/plain": [
       "0.7401486830834376"
      ]
     },
     "execution_count": 5,
     "metadata": {},
     "output_type": "execute_result"
    }
   ],
   "source": [
    "np.log(1+3e-16)/(3e-16)"
   ]
  },
  {
   "cell_type": "code",
   "execution_count": 7,
   "metadata": {},
   "outputs": [
    {
     "data": {
      "text/plain": [
       "0.9999999999999999"
      ]
     },
     "execution_count": 7,
     "metadata": {},
     "output_type": "execute_result"
    }
   ],
   "source": [
    "np.log(1+3e-16)/((1+3.e-16)-1)"
   ]
  },
  {
   "cell_type": "markdown",
   "metadata": {},
   "source": [
    "# Još malo o pogreškama i stabilnosti algoritama"
   ]
  },
  {
   "cell_type": "code",
   "execution_count": 10,
   "metadata": {},
   "outputs": [
    {
     "data": {
      "text/html": [
       "\n",
       "        <iframe\n",
       "            width=\"400\"\n",
       "            height=\"300\"\n",
       "            src=\"https://www.youtube.com/embed/cKUZA2aWnHU \"\n",
       "            frameborder=\"0\"\n",
       "            allowfullscreen\n",
       "        ></iframe>\n",
       "        "
      ],
      "text/plain": [
       "<IPython.lib.display.YouTubeVideo at 0x253552ab390>"
      ]
     },
     "metadata": {},
     "output_type": "display_data"
    }
   ],
   "source": [
    "from IPython.lib.display import YouTubeVideo\n",
    "vid = YouTubeVideo(\"cKUZA2aWnHU \")\n",
    "display(vid)\n",
    "\n"
   ]
  },
  {
   "cell_type": "markdown",
   "metadata": {},
   "source": [
    "# Rješavanje linearnih sustava"
   ]
  },
  {
   "cell_type": "code",
   "execution_count": 11,
   "metadata": {},
   "outputs": [
    {
     "data": {
      "image/jpeg": "[encoded data removed]",
      "text/html": [
       "\n",
       "        <iframe\n",
       "            width=\"400\"\n",
       "            height=\"300\"\n",
       "            src=\"https://www.youtube.com/embed/KLbaQoV-yOU\"\n",
       "            frameborder=\"0\"\n",
       "            allowfullscreen\n",
       "        ></iframe>\n",
       "        "
      ],
      "text/plain": [
       "<IPython.lib.display.YouTubeVideo at 0x253555e66a0>"
      ]
     },
     "metadata": {},
     "output_type": "display_data"
    }
   ],
   "source": [
    "from IPython.lib.display import YouTubeVideo\n",
    "vid = YouTubeVideo(\"KLbaQoV-yOU\")\n",
    "display(vid)"
   ]
  },
  {
   "cell_type": "code",
   "execution_count": 50,
   "metadata": {},
   "outputs": [
    {
     "name": "stdout",
     "output_type": "stream",
     "text": [
      "X= [-1.05882353  8.        ]\n"
     ]
    }
   ],
   "source": [
    "A = np.array([[17, 5], [1.7, 0.5]])\n",
    "B = np.array([22,2.2])\n",
    "X = np.linalg.solve(A,B)\n",
    "print(\"X=\",X)"
   ]
  }
 ],
 "metadata": {
  "kernelspec": {
   "display_name": "Python 3",
   "language": "python",
   "name": "python3"
  },
  "language_info": {
   "codemirror_mode": {
    "name": "ipython",
    "version": 3
   },
   "file_extension": ".py",
   "mimetype": "text/x-python",
   "name": "python",
   "nbconvert_exporter": "python",
   "pygments_lexer": "ipython3",
   "version": "3.6.4"
  }
 },
 "nbformat": 4,
 "nbformat_minor": 2
}
