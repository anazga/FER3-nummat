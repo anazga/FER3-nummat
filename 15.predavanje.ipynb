{
 "cells": [
  {
   "cell_type": "markdown",
   "metadata": {},
   "source": [
    "# Numerička matematika - 15. predavanje"
   ]
  },
  {
   "cell_type": "markdown",
   "metadata": {},
   "source": [
    "## 1. Metoda najmanjih kvadrata\n"
   ]
  },
  {
   "cell_type": "markdown",
   "metadata": {},
   "source": [
    "U ovom predavanju bavimo se metodom najmanjih kvadrata. Posebno razmatramo linearnu i kvadratnu regresiju.\n",
    "\n",
    "\n"
   ]
  },
  {
   "cell_type": "code",
   "execution_count": 6,
   "metadata": {
    "scrolled": false
   },
   "outputs": [
    {
     "data": {
      "image/jpeg": "[encoded data removed]",
      "text/html": [
       "\n",
       "        <iframe\n",
       "            width=\"400\"\n",
       "            height=\"300\"\n",
       "            src=\"https://www.youtube.com/embed/eIUpemWup9U\"\n",
       "            frameborder=\"0\"\n",
       "            allowfullscreen\n",
       "        ></iframe>\n",
       "        "
      ],
      "text/plain": [
       "<IPython.lib.display.YouTubeVideo at 0x22eb787ac50>"
      ]
     },
     "metadata": {},
     "output_type": "display_data"
    }
   ],
   "source": [
    "from IPython.lib.display import YouTubeVideo\n",
    "vid = YouTubeVideo(\"eIUpemWup9U\")\n",
    "display(vid)"
   ]
  },
  {
   "cell_type": "markdown",
   "metadata": {},
   "source": [
    "Sada istražite koju funkciju iz Pythonovih biblioteka koristimo za lineranu i kvadratnu regresiju za dani skup podataka. Ovdje će do sljedećeg predavanja biti ubačen kod za linearnu i kvardratnu regresiju koji koristi već ugrađene funkcije. Iskoristite 15 minuta da pronađete kako biste u  sklopu ove Jupyter bilježnice riješili primjere za linearnu i kvadratnu regresiju koje smo imali na video predavanju.\n",
    "\n",
    "Dodatak (4.12.2020.)\n",
    "Napomena!  Za aproksimaciju polinomima u smislu najmanjih kvadrata koristimo fukciju numpy.polyfit [ovaj link](https://numpy.org/doc/stable/reference/generated/numpy.polyfit.html). \n",
    "Nadalje, možete pogledati u datotekama našega tima na MS Teamsu Jupyter bilježnicu *usporedba_regresija.ipynb* (Jupyter bilježnicu je izradio student Miho Hren)"
   ]
  },
  {
   "cell_type": "markdown",
   "metadata": {},
   "source": [
    "## 2.1. Preodređeni sustavi, normalne jednadžbe i uvod u QR faktorizaciju matrice\n"
   ]
  },
  {
   "cell_type": "markdown",
   "metadata": {},
   "source": [
    "U ovom dijelu predavanja bavimo se preodređenim sustavima, te ih rješavamo u smislu metode najmanjih kvadrata."
   ]
  },
  {
   "cell_type": "code",
   "execution_count": 7,
   "metadata": {
    "scrolled": true
   },
   "outputs": [
    {
     "data": {
      "text/html": [
       "\n",
       "        <iframe\n",
       "            width=\"400\"\n",
       "            height=\"300\"\n",
       "            src=\"https://www.youtube.com/embed/Qq5qWRku3MU \"\n",
       "            frameborder=\"0\"\n",
       "            allowfullscreen\n",
       "        ></iframe>\n",
       "        "
      ],
      "text/plain": [
       "<IPython.lib.display.YouTubeVideo at 0x22eb787a710>"
      ]
     },
     "metadata": {},
     "output_type": "display_data"
    }
   ],
   "source": [
    "from IPython.lib.display import YouTubeVideo\n",
    "vid = YouTubeVideo(\"Qq5qWRku3MU \") \n",
    "display(vid)"
   ]
  },
  {
   "cell_type": "markdown",
   "metadata": {},
   "source": [
    "Sada samostalno riješite sljedeći zadatak! Više zadataka bit će obrađeno na vježbama u petak.\n",
    "\n",
    "**Zadatak** Za funkciju $y=f(x)$ zadanu tablicom\n",
    "$$\\begin{array}{c|c|c|c|c|c|c|} x_i& 0& 1& 2& 4& 7& 9\\\\ \\hline\n",
    "0& 4& 3& a& 30& b\\end{array}$$ pravac koji aproksimira navedene podatke u smislu najmanjih kvadrata ima jednadžbu $y=3x+4$. Izračunajte vrijednosti $a$ i $b$.\n",
    "\n",
    "*Rješenje*  Imamo da je $f(x)=c_1x+c_0$ gdje je $c_1=3$ i $c_0=4.$\n",
    "\n",
    "Formirajmo sustav normalnih jednadžbi. Matrica za ovaj problem je\n",
    "$$A=\\begin{bmatrix} 1& 0\\\\\n",
    "1& 1\\\\\n",
    "1& 2\\\\\n",
    "1& 4\\\\\n",
    "1& 7\\\\\n",
    "1& 9\\end{bmatrix}$$\n",
    "Vektor $y$ je\n",
    "$$y=[0\\ 4\\ 3\\ a\\ 30\\ b]^T$$\n",
    "Dobivamo da je $$A^TA=\\begin{bmatrix} 6&23\\\\ 23& 151\\end{bmatrix}$$\n",
    "Vektor desne strane je \n",
    "$$A^Ty=\\begin{bmatrix}37+a+b\\\\ 220+4a+9b\\end{bmatrix}$$\n",
    "Dakle sustav normalnih jednažbi je\n",
    "$$\\begin{bmatrix}6& 23\\\\\n",
    "23& 151\\end{bmatrix}\\begin{bmatrix}c_0\\\\ c_1\\end{bmatrix}= \\begin{bmatrix}37+a+b\\\\ 220+4a+9b\\end{bmatrix}$$\n",
    "\n",
    "Nama su $c_0$ i $c_1$ poznati a $a$ i $b$ moramo odrediti. Dobivamo\n",
    "$$a=\\frac{179}{5},\\quad b=\\frac{101}{5}.$$"
   ]
  },
  {
   "cell_type": "markdown",
   "metadata": {},
   "source": []
  }
 ],
 "metadata": {
  "kernelspec": {
   "display_name": "Python 3",
   "language": "python",
   "name": "python3"
  },
  "language_info": {
   "codemirror_mode": {
    "name": "ipython",
    "version": 3
   },
   "file_extension": ".py",
   "mimetype": "text/x-python",
   "name": "python",
   "nbconvert_exporter": "python",
   "pygments_lexer": "ipython3",
   "version": "3.6.4"
  }
 },
 "nbformat": 4,
 "nbformat_minor": 2
}
