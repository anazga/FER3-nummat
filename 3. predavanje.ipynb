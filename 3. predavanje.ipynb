{
 "cells": [
  {
   "cell_type": "markdown",
   "metadata": {},
   "source": [
    "# Gaussove eliminacije i LU rastav"
   ]
  },
  {
   "cell_type": "markdown",
   "metadata": {},
   "source": [
    "## 1. UVOD"
   ]
  },
  {
   "cell_type": "markdown",
   "metadata": {},
   "source": [
    "Na prethodnim predavanjima uveli smo linearne sustave. Pogledajmo sada linearan sustav\n"
   ]
  },
  {
   "cell_type": "markdown",
   "metadata": {},
   "source": [
    "U sljedećem dijelu predavanja biti će govora o rješavanju sustava\n",
    "$$5x_1+x_2+4x_3=19$$\n",
    "$$10x_1+4x_2+7x_3=39$$\n",
    "$$-15x_1+5x_2-9x_3=-32$$\n",
    "Iz Linearne agebre je poznato da ovaj sustav možemo zapisati u obliku $Ax=b.$\n",
    "\n",
    "\n",
    "Nadalje, vidjet ćemo da matricu $A=\\begin{bmatrix}5&1&4\\\\ 10& 4& 7\\\\ -15 &5& -9\\end{bmatrix}$ možemo zapisati kao produkt dviju matrica odnosno u obliku\n",
    "$$A=\\begin{bmatrix}5&1&4\\\\ 10& 4& 7\\\\ -15 &5& -9\\end{bmatrix}=\\begin{bmatrix}1&0&0\\\\ 2& 1& 0\\\\ -3 &4& 1\\end{bmatrix}\\begin{bmatrix}5&1&4\\\\ 0& 2& -1\\\\ 0 &0& 7\\end{bmatrix}=LU$$\n",
    "\n",
    "\n",
    "Ovdje je matrica $L$ **donjetrokutasta matrica s jedinicama na dijagonali**\n",
    "Matrica $U$ je **gornjetrokutasta matrica**\n",
    "Do matrice $U$ doći ćemo elementarnim transformacijama, odnosno množeći matricu $A$ s lijeva pripadnom matricom transformacije. \n"
   ]
  },
  {
   "cell_type": "code",
   "execution_count": 12,
   "metadata": {},
   "outputs": [
    {
     "data": {
      "text/html": [
       "\n",
       "        <iframe\n",
       "            width=\"400\"\n",
       "            height=\"300\"\n",
       "            src=\"https://www.youtube.com/embed/oxwgvJk_qFM\"\n",
       "            frameborder=\"0\"\n",
       "            allowfullscreen\n",
       "        ></iframe>\n",
       "        "
      ],
      "text/plain": [
       "<IPython.lib.display.YouTubeVideo at 0x23da14f2c50>"
      ]
     },
     "metadata": {},
     "output_type": "display_data"
    }
   ],
   "source": [
    "from IPython.lib.display import YouTubeVideo\n",
    "vid = YouTubeVideo(\"oxwgvJk_qFM\")\n",
    "display(vid)"
   ]
  },
  {
   "cell_type": "markdown",
   "metadata": {},
   "source": [
    "Prilikom implementacije morat ćemo štedjeti memoriju računala. Pogledajmo kako efektivno možemo zapisati postupak dobivanja matrice $L$ i matrice $U$."
   ]
  },
  {
   "cell_type": "code",
   "execution_count": 6,
   "metadata": {
    "scrolled": true
   },
   "outputs": [
    {
     "data": {
      "image/jpeg": "[encoded data removed]",
      "text/html": [
       "\n",
       "        <iframe\n",
       "            width=\"400\"\n",
       "            height=\"300\"\n",
       "            src=\"https://www.youtube.com/embed/u6PB-5gCMRQ\"\n",
       "            frameborder=\"0\"\n",
       "            allowfullscreen\n",
       "        ></iframe>\n",
       "        "
      ],
      "text/plain": [
       "<IPython.lib.display.YouTubeVideo at 0x23da14f2c18>"
      ]
     },
     "metadata": {},
     "output_type": "display_data"
    }
   ],
   "source": [
    "from IPython.lib.display import YouTubeVideo\n",
    "vid = YouTubeVideo(\"u6PB-5gCMRQ\")\n",
    "display(vid)"
   ]
  },
  {
   "cell_type": "markdown",
   "metadata": {},
   "source": [
    "# Zadatci za vježbu (obavezni za gornji dio gradiva)\n",
    "*Napomena: ove zadatke potrebno je riješiti nakon što ste odgledali gornji video. Rješenja će biti objavljena tokom srijede, tako da ukoliko ne stignete do 9:00 h riješiti ove zadatke napravite to do srijede popodne.*\n",
    "\n",
    "1. Odredite LU faktorizaciju matrice $A=\\begin{bmatrix} 7& 2 &1\\\\ 18& 9& 8\\\\ 49& 35& 37\\end{bmatrix}$\n",
    "2. Za gornju matricu koristeći njenu $LU$ faktorizaciju riješite sustav $Ax=b$ ako je $b=\\begin{bmatrix}6\\\\ 17\\\\ 51\\end{bmatrix}$\n",
    "3. Zadatke 1. i 2. ponovite za matricu $A=\\begin{bmatrix} 2& 2 &3\\\\ 3& 4& 4\\\\ 15& 18& 17\\end{bmatrix}$ i vektor $b=\\begin{bmatrix}-3\\\\ -3\\\\ -14\\end{bmatrix}$ \n",
    "4. Zadana je matrica $$A=\\begin{bmatrix}a_{11}& a_{12}& a_{13}\\\\\n",
    "a_{21}& a_{22}& a_{23}\\\\\n",
    "a_{31}& a_{32}& a_{33}\\end{bmatrix}.$$\n",
    "Odredite matricu iz $\\mathbf{R}^{3\\times 3}$ koja množenjem matrice $A$ s lijeva vrši množenje drugog retka matrice $A$ sa $7$ i dodaje rezultat trećem retku. "
   ]
  },
  {
   "cell_type": "markdown",
   "metadata": {},
   "source": [
    "U sljedećem dijelu obradit ćemo LU faktorizaciju za općenitu matricu $A\\in \\mathbb{R}^{n\\times n}$\n",
    "\n"
   ]
  },
  {
   "cell_type": "markdown",
   "metadata": {},
   "source": [
    "Općenito $LU$ faktorizaciju matrice $A$ iskoristiti pri rješavanju sustava $Ax=b.$"
   ]
  },
  {
   "cell_type": "markdown",
   "metadata": {},
   "source": [
    "# Postupak Gaussove metode eliminacija na općenitom sustavu"
   ]
  },
  {
   "cell_type": "markdown",
   "metadata": {},
   "source": [
    "**Definicija** *Kažemo da matrica $A\\in\\mathbf{R}^{n\\times n}$ ima $LU$ faktorizaciju ako se može zapisati u obliku $A=LU$ gdje je $L$ donjetrokutasta matrica s jedinicama na dijagonali, a $U$ gornjetrokutasta matrica*"
   ]
  },
  {
   "cell_type": "code",
   "execution_count": 13,
   "metadata": {
    "scrolled": true
   },
   "outputs": [
    {
     "data": {
      "text/html": [
       "\n",
       "        <iframe\n",
       "            width=\"400\"\n",
       "            height=\"300\"\n",
       "            src=\"https://www.youtube.com/embed/MXtjFOhhEN8\"\n",
       "            frameborder=\"0\"\n",
       "            allowfullscreen\n",
       "        ></iframe>\n",
       "        "
      ],
      "text/plain": [
       "<IPython.lib.display.YouTubeVideo at 0x23da14f2f28>"
      ]
     },
     "metadata": {},
     "output_type": "display_data"
    }
   ],
   "source": [
    "vid = YouTubeVideo(\"MXtjFOhhEN8\")\n",
    "display(vid)"
   ]
  },
  {
   "cell_type": "markdown",
   "metadata": {},
   "source": [
    "Dakle, ukoliko nam je poznata LU faktorizacija, sustav Ax=b rješavamo na sljedeći način\n",
    "\n",
    "1. Ly=b, dobijemo rješenje sustava y\n",
    "2. Ux=y i dobijemo rješenje x koje je i rješenje polaznog sustava"
   ]
  },
  {
   "cell_type": "markdown",
   "metadata": {},
   "source": [
    "# Pseudokod (LU faktorizacija)\n",
    "\n",
    "Pogledajmo sada pseudokod rješavanja matrice, pri tome uočimo da ponovno koristimo matricu $A$ kako bismo uštedili memoriju računala kao što je to prikazano \"na papiru\" u prethodnom videu u sklopu ovog predavanja. U donji trokut spremamo multiplikatore (odnosno brojeve $\\mu_k^{(i)}$) i u u donjem trokutu u krajnjem zapisu imamo sve elemente koji su ispod dijagonale u matrici $L$. U gornjem trokutu je zapisana matrica $U$\n",
    "![pseudokod](pseudokod.png)\n"
   ]
  },
  {
   "cell_type": "markdown",
   "metadata": {},
   "source": [
    "U gornjem pseudokodu  ćemo primjerice za $n=5$ i $k=3$ računati\n",
    "\n",
    "\n",
    "$i=4$, $\\mu=\\frac{a_{43}}{a_{33}},$ te ćemo postaviti $a_{43}=\\mu$ (multiplikatore spremamo u donji trokut)\n",
    "\n",
    "\n",
    "$\\quad j=4, \\ a_{44}=a_{44}-\\mu a_{34}$\n",
    "\n",
    "\n",
    "$\\quad j=5,\\ a_{45}=a_{45}-\\mu a_{35}$\n",
    "\n",
    "\n",
    "$i=5, \\mu=\\frac{a_{53}}{a_{33}},\\quad a_{53}=\\mu.$\n",
    "\n"
   ]
  },
  {
   "cell_type": "markdown",
   "metadata": {},
   "source": [
    "# Pseudokod (Rješavanje sustava)"
   ]
  },
  {
   "cell_type": "markdown",
   "metadata": {},
   "source": [
    "\n",
    "![sustav](sustav.png)"
   ]
  },
  {
   "cell_type": "markdown",
   "metadata": {},
   "source": [
    "Uočimo da u gornjem algoritmu linije 3-7 rješavaju sustav $Ly=b$ odnosno imamo supstitucije unaprijed. Kako bismo uštedjeli na memorijskom prostoru, rezultat ćemo pospremiti u vektor $b$. \n",
    "Primjerice ako imamo sustav reda 5 \n",
    "$$\\begin{bmatrix}1&0&0&0&0\\\\\n",
    "*&1&0&0&0\\\\\n",
    "*&*&1&0&0\\\\\n",
    "*&*&*&1&0\\\\\n",
    "*&*&*&*&1\\end{bmatrix}\\begin{bmatrix}x_1\\\\y_2\\\\ y_3\\\\y_4\\\\y_5\\end{bmatrix}=\\begin{bmatrix}b_1\\\\b_2\\\\b_3\\\\b_4\\\\b_5\\end{bmatrix}\n",
    "$$\n",
    "tada je $y_1=b_1$, no mi ćemo umjesto u novi vektor $y$ podatke pospremiti u vektor $b$ pa pišemo $b_1=b_1$. Za drugu jednadžbu bismo imali $y_2=b_2-a_{21}b_1$, (uočite da je u element $a_{21}$ pospremljen multiplikator) pa pišemo $b_2=b_2-a_{21}b_2$, $b_3=b_3-a_{31}b_1$, $b_4=b_4-a_{41}b_1$  itd.\n",
    "\n",
    "Linije 8-14 rješavaju sustav $Ux=y$ odnosno u našoj notaciji sada $Ux=b$, te rezultat ponovno pospremamo u vektor $b$. \n",
    "Primjerice da imamo sustav reda 5 \n",
    "$$\\begin{bmatrix}*&*&*&*&*\\\\\n",
    "0&*&*&*&*\\\\\n",
    "0&0&*&*&*\\\\\n",
    "0&0&0&*&*\\\\\n",
    "0&0&0&0&*\\end{bmatrix}\\begin{bmatrix}x_1\\\\x_2\\\\ x_3\\\\x_4\\\\x_5\\end{bmatrix}=\\begin{bmatrix}b_1\\\\b_2\\\\b_3\\\\b_4\\\\b_5\\end{bmatrix}\n",
    "$$\n",
    "imamo $x_5=\\frac{b_5}{a_{55}}$ ali implementiramo $b_5=\\frac{b_5}{a_{55}}$ itd.\n",
    "\n",
    "Izlaz: Rješenje spremljeno u vektor $b.$"
   ]
  },
  {
   "cell_type": "markdown",
   "metadata": {},
   "source": [
    "#  Složenost algoritma Gaussovih eliminacija"
   ]
  },
  {
   "cell_type": "markdown",
   "metadata": {},
   "source": [
    "Pokažimo da je složenost algoritma Gaussovih eliminacija $O(\\frac{2}{3}n^3)$\n",
    "\n",
    "*Napomena i zadatak: U sljedećem videu na samom kraju vidjet ćete samo za ilusteaciju implementaciju napisanu u Matlabu! Za vježbu za petak probajte razmisliti o navedenoj implementaciji u Pythonu! "
   ]
  },
  {
   "cell_type": "code",
   "execution_count": 5,
   "metadata": {},
   "outputs": [
    {
     "data": {
      "text/html": [
       "\n",
       "        <iframe\n",
       "            width=\"400\"\n",
       "            height=\"300\"\n",
       "            src=\"https://www.youtube.com/embed/Dq40ZAJmGcI \"\n",
       "            frameborder=\"0\"\n",
       "            allowfullscreen\n",
       "        ></iframe>\n",
       "        "
      ],
      "text/plain": [
       "<IPython.lib.display.YouTubeVideo at 0x1ed6cb581d0>"
      ]
     },
     "metadata": {},
     "output_type": "display_data"
    }
   ],
   "source": [
    "vid = YouTubeVideo(\"Dq40ZAJmGcI \")\n",
    "display(vid)"
   ]
  },
  {
   "cell_type": "markdown",
   "metadata": {},
   "source": [
    "Prilikom prebrojavanja računskih operacija u algoritmu za računanje $LU$ faktorizacije matrice vidjeli smo da moramo odraditi sljedeći broj operacija\n",
    "$$\\sum_{k=1}^{n-1}(n-k)(2(n-k)+1)$$\n",
    "U gornjoj sumi možemo uvesti indeks $j=n-k$, te nam tada $k=1\\Rightarrow j=n-1 $ i $k=n-1\\Rightarrow j=1.$\n",
    "Sada vrijedi\n",
    "$$S_1=\\sum_{k=1}^{n-1}(n-k)(2(n-k)+1)=\\sum_{j=1}^{n-1}j(2j+1)=\\sum_{j=1}^{n-1}j+2\\sum_{j=1}^{n-1}j^2$$\n",
    "Sada koristimo znanje iz Matematike 1 (navedene formule za ove sume smo obrađivali prvom tjednu nastave Matematike 1 uz matematičku indukciju) i dobivamo\n",
    "$$S_1=\\frac{n(n-1)}{2}+2\\frac{(n-1)n(2n-1)}{6}=n(n-1)\\frac{4n+1}{6}.$$"
   ]
  },
  {
   "cell_type": "markdown",
   "metadata": {},
   "source": [
    "U algoritmu za rješvanje sustava vidjeli smo da je ukupan broj računskih operacija bio jednak S_2+S_3 gdje je\n",
    "$$S_2=\\sum_{k=1}^{n-1}2(n-k)=\\sum_{j=1}^{n-1}2j=n(n-1)$$\n"
   ]
  },
  {
   "cell_type": "markdown",
   "metadata": {},
   "source": [
    "$$S_3=1+\\sum_{i=1}^{n-1}(2(n-i)+1)=[l=n-i]=1+\\sum_{l=1}^{n-1}(2l+1)=1+2\\frac{n(n-1)}{2}+n-1=1+(n-1)(n+1)$$\n",
    "Uočimo da je\n",
    "$$n(n-1)+(n-1)(n+1)+1=2n^2-n.$$\n",
    "Dakle, ukupan broj računskih operacija potrebam da odredimo rješenje sustava $n$ jednadžbi sa $n$ nepoznanica je \n",
    "$$n(n-1)\\frac{4n+1}{6}+2n^2-n=\\frac{2}{3}n^3+\\frac{3}{2}n^2-\\frac{7}{6}n=O(\\frac{2n^3}{3})$$"
   ]
  },
  {
   "cell_type": "markdown",
   "metadata": {},
   "source": [
    "# Mogući problemi\n",
    "Razmislimo sada koji nam se **problemi** mogu javiti prilikom provođenja $LU$ faktorizacije. To su\n",
    "1. **Pivotni element je 0.**\n",
    "\n",
    "\n",
    "Npr.Imamo matricu $A=\\begin{bmatrix} 0& 1\\\\\n",
    "1&0\\end{bmatrix}$ i želimo provesti algoritam za $LU$ faktorizaciju koji smo opisali, naići ćemo na problem: *Možemo li uopće poništiti element $a_{21}$? Znači li to da $LU$ faktorizacija ne postoji*\n",
    "\n",
    "\n",
    "**Uočimo!**Ako zamijenimo retke ove matrice \"problem\" iz gornjih pitanja nestaje :).\n",
    "\n",
    "**Pitanje!** Ima li svaka regularna matrica $LU$ rastav? \n",
    "\n",
    "(odgovor: Nema, kao što to vidimo u primjeru za gornju matricu $A$, jer navedena matrica je regularna. Nadalje, postoje i singularne matrice koje imaju $LU$ rastav. Primjer jedna takve matrice je $B=\\begin{bmatrix}1&1\\\\1& 1\\end{bmatrix}$)\n",
    "\n",
    "\n",
    "2.** Ako imamo malu vrijednost za pivotni element! **\n",
    "\n"
   ]
  },
  {
   "cell_type": "markdown",
   "metadata": {},
   "source": [
    "I maleni pivotni element može biti problem!. Vidjet ćemo na sljedećem predavanju."
   ]
  }
 ],
 "metadata": {
  "kernelspec": {
   "display_name": "Python 3",
   "language": "python",
   "name": "python3"
  },
  "language_info": {
   "codemirror_mode": {
    "name": "ipython",
    "version": 3
   },
   "file_extension": ".py",
   "mimetype": "text/x-python",
   "name": "python",
   "nbconvert_exporter": "python",
   "pygments_lexer": "ipython3",
   "version": "3.6.4"
  }
 },
 "nbformat": 4,
 "nbformat_minor": 2
}
